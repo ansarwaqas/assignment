{
 "cells": [
  {
   "cell_type": "code",
   "execution_count": 1,
   "metadata": {},
   "outputs": [
    {
     "name": "stdout",
     "output_type": "stream",
     "text": [
      "\tTwinkle,twinkle,little Star,\n",
      " \t\t How I Wonder Whats You Are!\n",
      "\t\t\tUp above the world so high\n",
      "\t\t\tlike a diamond in the sky\n",
      "\tTwinkle,twinkle,little Star,\n",
      " \t\t How I Wonder Whats You Are!\n"
     ]
    }
   ],
   "source": [
    "print(\"\\tTwinkle,twinkle,little Star,\\n \\t\\t How I Wonder Whats You Are!\\n\\t\\t\\tUp above the world so high\\n\\t\\t\\tlike a diamond in the sky\\n\\tTwinkle,twinkle,little Star,\\n \\t\\t How I Wonder Whats You Are!\")"
   ]
  },
  {
   "cell_type": "code",
   "execution_count": 2,
   "metadata": {},
   "outputs": [
    {
     "name": "stdout",
     "output_type": "stream",
     "text": [
      "3.7.3 (default, Apr 24 2019, 13:20:13) [MSC v.1915 32 bit (Intel)]\n"
     ]
    }
   ],
   "source": [
    "import sys\n",
    "\n",
    "print(sys.version)\n",
    "\n"
   ]
  },
  {
   "cell_type": "code",
   "execution_count": 3,
   "metadata": {},
   "outputs": [
    {
     "name": "stdout",
     "output_type": "stream",
     "text": [
      "Current DateTime= 2022-01-01 17:49:26.733659\n"
     ]
    }
   ],
   "source": [
    "from datetime import datetime\n",
    "\n",
    "curr = datetime.now()\n",
    "\n",
    "print(\"Current DateTime=\", curr)\n"
   ]
  },
  {
   "cell_type": "code",
   "execution_count": 4,
   "metadata": {},
   "outputs": [
    {
     "name": "stdout",
     "output_type": "stream",
     "text": [
      " ====== Enter A Radius Of A Circle === 3.4\n",
      "Area Of Circle Is ===== 36.316811075498\n"
     ]
    }
   ],
   "source": [
    "from math import pi\n",
    "\n",
    "r = float(input(\" ====== Enter A Radius Of A Circle === \"));\n",
    "\n",
    "print(\"Area Of Circle Is ===== \" + str(pi*r**2));\n"
   ]
  },
  {
   "cell_type": "code",
   "execution_count": 8,
   "metadata": {},
   "outputs": [
    {
     "name": "stdout",
     "output_type": "stream",
     "text": [
      "Enter Your Firstname ======  david\n",
      "Enter Your Lastname ======  warner\n",
      "Your Name Is warner  david\n"
     ]
    }
   ],
   "source": [
    "firstname = input(\"Enter Your Firstname ======  \");\n",
    "lastname = input(\"Enter Your Lastname ======  \");\n",
    "\n",
    "print(\"Your Name Is \" + lastname + \"  \" + firstname);\n"
   ]
  },
  {
   "cell_type": "code",
   "execution_count": 7,
   "metadata": {},
   "outputs": [
    {
     "name": "stdout",
     "output_type": "stream",
     "text": [
      "Enter A Number1  === 14\n",
      "Enter A Number2  == 5\n",
      "Sum Is ======  19\n"
     ]
    }
   ],
   "source": [
    "num1 = int ( input ('Enter A Number1  === '));\n",
    "num2 =  int (input ('Enter A Number2  == '));\n",
    "summm = num1 + num2;\n",
    "\n",
    "print(\"Sum Is ====== \" ,summm);\n",
    "\n"
   ]
  },
  {
   "cell_type": "code",
   "execution_count": null,
   "metadata": {},
   "outputs": [],
   "source": []
  }
 ],
 "metadata": {
  "kernelspec": {
   "display_name": "Python 3",
   "language": "python",
   "name": "python3"
  },
  "language_info": {
   "codemirror_mode": {
    "name": "ipython",
    "version": 3
   },
   "file_extension": ".py",
   "mimetype": "text/x-python",
   "name": "python",
   "nbconvert_exporter": "python",
   "pygments_lexer": "ipython3",
   "version": "3.7.3"
  }
 },
 "nbformat": 4,
 "nbformat_minor": 2
}
